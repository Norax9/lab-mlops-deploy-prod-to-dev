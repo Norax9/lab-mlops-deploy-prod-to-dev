{
 "cells": [
  {
   "cell_type": "code",
   "execution_count": 1,
   "metadata": {},
   "outputs": [
    {
     "name": "stdout",
     "output_type": "stream",
     "text": [
      "Model trained successfully!\n",
      "Coefficient: 2.0, Intercept: 0.0\n"
     ]
    }
   ],
   "source": [
    "# model.py\n",
    "import pandas as pd\n",
    "from sklearn.linear_model import LinearRegression\n",
    "\n",
    "def train_model():\n",
    "    # Sample data (X: feature, y: target)\n",
    "    X = pd.DataFrame([[1], [2], [3], [4], [5]])\n",
    "    y = pd.Series([2, 4, 6, 8, 10])\n",
    "\n",
    "    # Train a simple linear regression model\n",
    "    model = LinearRegression()\n",
    "    model.fit(X, y)\n",
    "    \n",
    "    print(\"Model trained successfully!\")\n",
    "    print(f\"Coefficient: {model.coef_[0]}, Intercept: {model.intercept_}\")\n",
    "\n",
    "if __name__ == \"__main__\":\n",
    "    train_model()"
   ]
  }
 ],
 "metadata": {
  "kernelspec": {
   "display_name": "ironhack",
   "language": "python",
   "name": "python3"
  },
  "language_info": {
   "name": "python",
   "version": "3.11.11"
  }
 },
 "nbformat": 4,
 "nbformat_minor": 2
}
